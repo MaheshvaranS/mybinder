{
 "cells": [
  {
   "cell_type": "markdown",
   "id": "3a79f81b",
   "metadata": {},
   "source": [
    "##### 205229119\n",
    "##### Maheshvaran S\n",
    "##### CIA-1"
   ]
  },
  {
   "cell_type": "markdown",
   "id": "53261bef",
   "metadata": {},
   "source": [
    "### Step1\n",
    "##### Import the ‘insurance.csv’ file using pandas"
   ]
  },
  {
   "cell_type": "code",
   "execution_count": 1,
   "id": "de4516f3",
   "metadata": {},
   "outputs": [
    {
     "data": {
      "text/html": [
       "<div>\n",
       "<style scoped>\n",
       "    .dataframe tbody tr th:only-of-type {\n",
       "        vertical-align: middle;\n",
       "    }\n",
       "\n",
       "    .dataframe tbody tr th {\n",
       "        vertical-align: top;\n",
       "    }\n",
       "\n",
       "    .dataframe thead th {\n",
       "        text-align: right;\n",
       "    }\n",
       "</style>\n",
       "<table border=\"1\" class=\"dataframe\">\n",
       "  <thead>\n",
       "    <tr style=\"text-align: right;\">\n",
       "      <th></th>\n",
       "      <th>age</th>\n",
       "      <th>sex</th>\n",
       "      <th>bmi</th>\n",
       "      <th>children</th>\n",
       "      <th>smoker</th>\n",
       "      <th>region</th>\n",
       "      <th>charges</th>\n",
       "    </tr>\n",
       "  </thead>\n",
       "  <tbody>\n",
       "    <tr>\n",
       "      <th>0</th>\n",
       "      <td>19</td>\n",
       "      <td>female</td>\n",
       "      <td>27.900</td>\n",
       "      <td>0</td>\n",
       "      <td>yes</td>\n",
       "      <td>southwest</td>\n",
       "      <td>16884.92400</td>\n",
       "    </tr>\n",
       "    <tr>\n",
       "      <th>1</th>\n",
       "      <td>18</td>\n",
       "      <td>male</td>\n",
       "      <td>33.770</td>\n",
       "      <td>1</td>\n",
       "      <td>no</td>\n",
       "      <td>southeast</td>\n",
       "      <td>1725.55230</td>\n",
       "    </tr>\n",
       "    <tr>\n",
       "      <th>2</th>\n",
       "      <td>28</td>\n",
       "      <td>male</td>\n",
       "      <td>33.000</td>\n",
       "      <td>3</td>\n",
       "      <td>no</td>\n",
       "      <td>southeast</td>\n",
       "      <td>4449.46200</td>\n",
       "    </tr>\n",
       "    <tr>\n",
       "      <th>3</th>\n",
       "      <td>33</td>\n",
       "      <td>male</td>\n",
       "      <td>22.705</td>\n",
       "      <td>0</td>\n",
       "      <td>no</td>\n",
       "      <td>northwest</td>\n",
       "      <td>21984.47061</td>\n",
       "    </tr>\n",
       "    <tr>\n",
       "      <th>4</th>\n",
       "      <td>32</td>\n",
       "      <td>male</td>\n",
       "      <td>28.880</td>\n",
       "      <td>0</td>\n",
       "      <td>no</td>\n",
       "      <td>northwest</td>\n",
       "      <td>3866.85520</td>\n",
       "    </tr>\n",
       "    <tr>\n",
       "      <th>...</th>\n",
       "      <td>...</td>\n",
       "      <td>...</td>\n",
       "      <td>...</td>\n",
       "      <td>...</td>\n",
       "      <td>...</td>\n",
       "      <td>...</td>\n",
       "      <td>...</td>\n",
       "    </tr>\n",
       "    <tr>\n",
       "      <th>1333</th>\n",
       "      <td>50</td>\n",
       "      <td>male</td>\n",
       "      <td>30.970</td>\n",
       "      <td>3</td>\n",
       "      <td>no</td>\n",
       "      <td>northwest</td>\n",
       "      <td>10600.54830</td>\n",
       "    </tr>\n",
       "    <tr>\n",
       "      <th>1334</th>\n",
       "      <td>18</td>\n",
       "      <td>female</td>\n",
       "      <td>31.920</td>\n",
       "      <td>0</td>\n",
       "      <td>no</td>\n",
       "      <td>northeast</td>\n",
       "      <td>2205.98080</td>\n",
       "    </tr>\n",
       "    <tr>\n",
       "      <th>1335</th>\n",
       "      <td>18</td>\n",
       "      <td>female</td>\n",
       "      <td>36.850</td>\n",
       "      <td>0</td>\n",
       "      <td>no</td>\n",
       "      <td>southeast</td>\n",
       "      <td>1629.83350</td>\n",
       "    </tr>\n",
       "    <tr>\n",
       "      <th>1336</th>\n",
       "      <td>21</td>\n",
       "      <td>female</td>\n",
       "      <td>25.800</td>\n",
       "      <td>0</td>\n",
       "      <td>no</td>\n",
       "      <td>southwest</td>\n",
       "      <td>2007.94500</td>\n",
       "    </tr>\n",
       "    <tr>\n",
       "      <th>1337</th>\n",
       "      <td>61</td>\n",
       "      <td>female</td>\n",
       "      <td>29.070</td>\n",
       "      <td>0</td>\n",
       "      <td>yes</td>\n",
       "      <td>northwest</td>\n",
       "      <td>29141.36030</td>\n",
       "    </tr>\n",
       "  </tbody>\n",
       "</table>\n",
       "<p>1338 rows × 7 columns</p>\n",
       "</div>"
      ],
      "text/plain": [
       "      age     sex     bmi  children smoker     region      charges\n",
       "0      19  female  27.900         0    yes  southwest  16884.92400\n",
       "1      18    male  33.770         1     no  southeast   1725.55230\n",
       "2      28    male  33.000         3     no  southeast   4449.46200\n",
       "3      33    male  22.705         0     no  northwest  21984.47061\n",
       "4      32    male  28.880         0     no  northwest   3866.85520\n",
       "...   ...     ...     ...       ...    ...        ...          ...\n",
       "1333   50    male  30.970         3     no  northwest  10600.54830\n",
       "1334   18  female  31.920         0     no  northeast   2205.98080\n",
       "1335   18  female  36.850         0     no  southeast   1629.83350\n",
       "1336   21  female  25.800         0     no  southwest   2007.94500\n",
       "1337   61  female  29.070         0    yes  northwest  29141.36030\n",
       "\n",
       "[1338 rows x 7 columns]"
      ]
     },
     "execution_count": 1,
     "metadata": {},
     "output_type": "execute_result"
    }
   ],
   "source": [
    "import pandas as pd\n",
    "data = pd.read_csv('insurance.csv')\n",
    "data"
   ]
  },
  {
   "cell_type": "markdown",
   "id": "9bf13152",
   "metadata": {},
   "source": [
    "##### Identify the target variable and the predictors"
   ]
  },
  {
   "cell_type": "code",
   "execution_count": 2,
   "id": "af8eb460",
   "metadata": {},
   "outputs": [
    {
     "data": {
      "text/html": [
       "<div>\n",
       "<style scoped>\n",
       "    .dataframe tbody tr th:only-of-type {\n",
       "        vertical-align: middle;\n",
       "    }\n",
       "\n",
       "    .dataframe tbody tr th {\n",
       "        vertical-align: top;\n",
       "    }\n",
       "\n",
       "    .dataframe thead th {\n",
       "        text-align: right;\n",
       "    }\n",
       "</style>\n",
       "<table border=\"1\" class=\"dataframe\">\n",
       "  <thead>\n",
       "    <tr style=\"text-align: right;\">\n",
       "      <th></th>\n",
       "      <th>sex</th>\n",
       "      <th>smoker</th>\n",
       "      <th>region</th>\n",
       "    </tr>\n",
       "  </thead>\n",
       "  <tbody>\n",
       "    <tr>\n",
       "      <th>0</th>\n",
       "      <td>female</td>\n",
       "      <td>yes</td>\n",
       "      <td>southwest</td>\n",
       "    </tr>\n",
       "    <tr>\n",
       "      <th>1</th>\n",
       "      <td>male</td>\n",
       "      <td>no</td>\n",
       "      <td>southeast</td>\n",
       "    </tr>\n",
       "    <tr>\n",
       "      <th>2</th>\n",
       "      <td>male</td>\n",
       "      <td>no</td>\n",
       "      <td>southeast</td>\n",
       "    </tr>\n",
       "    <tr>\n",
       "      <th>3</th>\n",
       "      <td>male</td>\n",
       "      <td>no</td>\n",
       "      <td>northwest</td>\n",
       "    </tr>\n",
       "    <tr>\n",
       "      <th>4</th>\n",
       "      <td>male</td>\n",
       "      <td>no</td>\n",
       "      <td>northwest</td>\n",
       "    </tr>\n",
       "  </tbody>\n",
       "</table>\n",
       "</div>"
      ],
      "text/plain": [
       "      sex smoker     region\n",
       "0  female    yes  southwest\n",
       "1    male     no  southeast\n",
       "2    male     no  southeast\n",
       "3    male     no  northwest\n",
       "4    male     no  northwest"
      ]
     },
     "execution_count": 2,
     "metadata": {},
     "output_type": "execute_result"
    }
   ],
   "source": [
    "data[['sex','smoker','region']].head()"
   ]
  },
  {
   "cell_type": "code",
   "execution_count": 3,
   "id": "7b13afa7",
   "metadata": {},
   "outputs": [],
   "source": [
    "data['sex'] = data['sex'].apply({'male':0,'female':1}.get)\n",
    "data['smoker'] = data['smoker'].apply({'yes':1,'no':0}.get)\n",
    "data['region'] = data['region'].apply({'southwest':1,'southeast':2,'northwest':3,'northeast':4}.get)"
   ]
  },
  {
   "cell_type": "code",
   "execution_count": 4,
   "id": "884bfe63",
   "metadata": {},
   "outputs": [
    {
     "data": {
      "text/html": [
       "<div>\n",
       "<style scoped>\n",
       "    .dataframe tbody tr th:only-of-type {\n",
       "        vertical-align: middle;\n",
       "    }\n",
       "\n",
       "    .dataframe tbody tr th {\n",
       "        vertical-align: top;\n",
       "    }\n",
       "\n",
       "    .dataframe thead th {\n",
       "        text-align: right;\n",
       "    }\n",
       "</style>\n",
       "<table border=\"1\" class=\"dataframe\">\n",
       "  <thead>\n",
       "    <tr style=\"text-align: right;\">\n",
       "      <th></th>\n",
       "      <th>age</th>\n",
       "      <th>sex</th>\n",
       "      <th>bmi</th>\n",
       "      <th>children</th>\n",
       "      <th>smoker</th>\n",
       "      <th>region</th>\n",
       "      <th>charges</th>\n",
       "    </tr>\n",
       "  </thead>\n",
       "  <tbody>\n",
       "    <tr>\n",
       "      <th>0</th>\n",
       "      <td>19</td>\n",
       "      <td>1</td>\n",
       "      <td>27.900</td>\n",
       "      <td>0</td>\n",
       "      <td>1</td>\n",
       "      <td>1</td>\n",
       "      <td>16884.92400</td>\n",
       "    </tr>\n",
       "    <tr>\n",
       "      <th>1</th>\n",
       "      <td>18</td>\n",
       "      <td>0</td>\n",
       "      <td>33.770</td>\n",
       "      <td>1</td>\n",
       "      <td>0</td>\n",
       "      <td>2</td>\n",
       "      <td>1725.55230</td>\n",
       "    </tr>\n",
       "    <tr>\n",
       "      <th>2</th>\n",
       "      <td>28</td>\n",
       "      <td>0</td>\n",
       "      <td>33.000</td>\n",
       "      <td>3</td>\n",
       "      <td>0</td>\n",
       "      <td>2</td>\n",
       "      <td>4449.46200</td>\n",
       "    </tr>\n",
       "    <tr>\n",
       "      <th>3</th>\n",
       "      <td>33</td>\n",
       "      <td>0</td>\n",
       "      <td>22.705</td>\n",
       "      <td>0</td>\n",
       "      <td>0</td>\n",
       "      <td>3</td>\n",
       "      <td>21984.47061</td>\n",
       "    </tr>\n",
       "    <tr>\n",
       "      <th>4</th>\n",
       "      <td>32</td>\n",
       "      <td>0</td>\n",
       "      <td>28.880</td>\n",
       "      <td>0</td>\n",
       "      <td>0</td>\n",
       "      <td>3</td>\n",
       "      <td>3866.85520</td>\n",
       "    </tr>\n",
       "  </tbody>\n",
       "</table>\n",
       "</div>"
      ],
      "text/plain": [
       "   age  sex     bmi  children  smoker  region      charges\n",
       "0   19    1  27.900         0       1       1  16884.92400\n",
       "1   18    0  33.770         1       0       2   1725.55230\n",
       "2   28    0  33.000         3       0       2   4449.46200\n",
       "3   33    0  22.705         0       0       3  21984.47061\n",
       "4   32    0  28.880         0       0       3   3866.85520"
      ]
     },
     "execution_count": 4,
     "metadata": {},
     "output_type": "execute_result"
    }
   ],
   "source": [
    "data.head()"
   ]
  },
  {
   "cell_type": "markdown",
   "id": "9b857c8d",
   "metadata": {},
   "source": [
    "##### Univariate distributions (Visualise the continuous variables using histogram)"
   ]
  },
  {
   "cell_type": "code",
   "execution_count": 5,
   "id": "31484b4e",
   "metadata": {},
   "outputs": [
    {
     "data": {
      "text/plain": [
       "(array([536., 398., 129.,  86.,  35.,  59.,  57.,  32.,   2.,   4.]),\n",
       " array([ 1121.8739  ,  7386.729311, 13651.584722, 19916.440133,\n",
       "        26181.295544, 32446.150955, 38711.006366, 44975.861777,\n",
       "        51240.717188, 57505.572599, 63770.42801 ]),\n",
       " <BarContainer object of 10 artists>)"
      ]
     },
     "execution_count": 5,
     "metadata": {},
     "output_type": "execute_result"
    },
    {
     "data": {
      "image/png": "[encoded data removed]",
      "text/plain": [
       "<Figure size 432x288 with 1 Axes>"
      ]
     },
     "metadata": {
      "needs_background": "light"
     },
     "output_type": "display_data"
    }
   ],
   "source": [
    "import matplotlib.pyplot as plt\n",
    "plt.hist(x=data['charges'])"
   ]
  },
  {
   "cell_type": "markdown",
   "id": "0a5a6537",
   "metadata": {},
   "source": [
    "##### What can you infer about the distribution"
   ]
  },
  {
   "cell_type": "markdown",
   "id": "58fb6fd3",
   "metadata": {},
   "source": [
    "###### The dependent variable on the left of the equal sign in linerar regression.There must be one and only one target variable in a disicision tree analysis predictor variable is a variable whose values will be used to predict the values of the variable.Univariate Data Visualization - Input (Uni-variate scatter plot using Matplotlib) ... It is used to visualize the distribution of data points of the variable. And finally get the histogram and results."
   ]
  },
  {
   "cell_type": "markdown",
   "id": "892940c3",
   "metadata": {},
   "source": [
    "### Step2"
   ]
  },
  {
   "cell_type": "markdown",
   "id": "500a49fc",
   "metadata": {},
   "source": [
    "##### Bivariate distribution (Visualise two continuous predictors using scatterplot). For example age and bmi"
   ]
  },
  {
   "cell_type": "code",
   "execution_count": 6,
   "id": "e821c357",
   "metadata": {},
   "outputs": [
    {
     "data": {
      "text/plain": [
       "<AxesSubplot:xlabel='bmi', ylabel='age'>"
      ]
     },
     "execution_count": 6,
     "metadata": {},
     "output_type": "execute_result"
    },
    {
     "data": {
      "image/png": "[encoded data removed]",
      "text/plain": [
       "<Figure size 432x288 with 1 Axes>"
      ]
     },
     "metadata": {
      "needs_background": "light"
     },
     "output_type": "display_data"
    }
   ],
   "source": [
    "import seaborn as sns\n",
    "sns.scatterplot(x=data['bmi'],y=data['age'],hue=data['smoker'])"
   ]
  },
  {
   "cell_type": "markdown",
   "id": "ccd437c5",
   "metadata": {},
   "source": [
    "##### What can you infer about the relationship of the predictors?"
   ]
  },
  {
   "cell_type": "markdown",
   "id": "9d98ca44",
   "metadata": {},
   "source": [
    "######  Inference and prediction both describe tasks where we learn from data in a supervised manner in order to find a model that describes the relationship between the independent variables and the outcome. Inference and prediction, however, diverge when it comes to the use of the resulting model"
   ]
  },
  {
   "cell_type": "markdown",
   "id": "7ff0e955",
   "metadata": {},
   "source": [
    "### Step3\n",
    "##### Split the dataset into training and test set"
   ]
  },
  {
   "cell_type": "code",
   "execution_count": 7,
   "id": "9a6783dc",
   "metadata": {},
   "outputs": [
    {
     "data": {
      "text/plain": [
       "Index(['age', 'sex', 'bmi', 'children', 'smoker', 'region', 'charges'], dtype='object')"
      ]
     },
     "execution_count": 7,
     "metadata": {},
     "output_type": "execute_result"
    }
   ],
   "source": [
    "data.columns"
   ]
  },
  {
   "cell_type": "code",
   "execution_count": 8,
   "id": "d1fb180b",
   "metadata": {},
   "outputs": [],
   "source": [
    "#features\n",
    "X = data[['age','sex','bmi','children','smoker','region']]\n",
    "\n",
    "#predicted variable\n",
    "y = data['charges']"
   ]
  },
  {
   "cell_type": "code",
   "execution_count": 10,
   "id": "fa1cb241",
   "metadata": {},
   "outputs": [
    {
     "data": {
      "text/html": [
       "<div>\n",
       "<style scoped>\n",
       "    .dataframe tbody tr th:only-of-type {\n",
       "        vertical-align: middle;\n",
       "    }\n",
       "\n",
       "    .dataframe tbody tr th {\n",
       "        vertical-align: top;\n",
       "    }\n",
       "\n",
       "    .dataframe thead th {\n",
       "        text-align: right;\n",
       "    }\n",
       "</style>\n",
       "<table border=\"1\" class=\"dataframe\">\n",
       "  <thead>\n",
       "    <tr style=\"text-align: right;\">\n",
       "      <th></th>\n",
       "      <th>age</th>\n",
       "      <th>sex</th>\n",
       "      <th>bmi</th>\n",
       "      <th>children</th>\n",
       "      <th>smoker</th>\n",
       "      <th>region</th>\n",
       "    </tr>\n",
       "  </thead>\n",
       "  <tbody>\n",
       "    <tr>\n",
       "      <th>0</th>\n",
       "      <td>19</td>\n",
       "      <td>1</td>\n",
       "      <td>27.900</td>\n",
       "      <td>0</td>\n",
       "      <td>1</td>\n",
       "      <td>1</td>\n",
       "    </tr>\n",
       "    <tr>\n",
       "      <th>1</th>\n",
       "      <td>18</td>\n",
       "      <td>0</td>\n",
       "      <td>33.770</td>\n",
       "      <td>1</td>\n",
       "      <td>0</td>\n",
       "      <td>2</td>\n",
       "    </tr>\n",
       "    <tr>\n",
       "      <th>2</th>\n",
       "      <td>28</td>\n",
       "      <td>0</td>\n",
       "      <td>33.000</td>\n",
       "      <td>3</td>\n",
       "      <td>0</td>\n",
       "      <td>2</td>\n",
       "    </tr>\n",
       "    <tr>\n",
       "      <th>3</th>\n",
       "      <td>33</td>\n",
       "      <td>0</td>\n",
       "      <td>22.705</td>\n",
       "      <td>0</td>\n",
       "      <td>0</td>\n",
       "      <td>3</td>\n",
       "    </tr>\n",
       "    <tr>\n",
       "      <th>4</th>\n",
       "      <td>32</td>\n",
       "      <td>0</td>\n",
       "      <td>28.880</td>\n",
       "      <td>0</td>\n",
       "      <td>0</td>\n",
       "      <td>3</td>\n",
       "    </tr>\n",
       "  </tbody>\n",
       "</table>\n",
       "</div>"
      ],
      "text/plain": [
       "   age  sex     bmi  children  smoker  region\n",
       "0   19    1  27.900         0       1       1\n",
       "1   18    0  33.770         1       0       2\n",
       "2   28    0  33.000         3       0       2\n",
       "3   33    0  22.705         0       0       3\n",
       "4   32    0  28.880         0       0       3"
      ]
     },
     "execution_count": 10,
     "metadata": {},
     "output_type": "execute_result"
    }
   ],
   "source": [
    "X.head()"
   ]
  },
  {
   "cell_type": "code",
   "execution_count": 11,
   "id": "e2bc9c57",
   "metadata": {},
   "outputs": [
    {
     "data": {
      "text/plain": [
       "0    16884.92400\n",
       "1     1725.55230\n",
       "2     4449.46200\n",
       "3    21984.47061\n",
       "4     3866.85520\n",
       "Name: charges, dtype: float64"
      ]
     },
     "execution_count": 11,
     "metadata": {},
     "output_type": "execute_result"
    }
   ],
   "source": [
    "y.head()"
   ]
  },
  {
   "cell_type": "markdown",
   "id": "0a4881a9",
   "metadata": {},
   "source": [
    "##### Perform linear regression on the training dataset and evaluate the model"
   ]
  },
  {
   "cell_type": "code",
   "execution_count": 14,
   "id": "9a1fb176",
   "metadata": {},
   "outputs": [],
   "source": [
    "from sklearn.model_selection import train_test_split\n",
    "X_train, X_test, y_train, y_test = train_test_split(X, y, test_size=0.4)"
   ]
  },
  {
   "cell_type": "code",
   "execution_count": 18,
   "id": "6d2b645d",
   "metadata": {},
   "outputs": [
    {
     "data": {
      "text/plain": [
       "(536, 802, 1338)"
      ]
     },
     "execution_count": 18,
     "metadata": {},
     "output_type": "execute_result"
    }
   ],
   "source": [
    "len(X_test),len(X_train),len(data)"
   ]
  },
  {
   "cell_type": "code",
   "execution_count": 21,
   "id": "1b1cbe48",
   "metadata": {},
   "outputs": [
    {
     "data": {
      "text/plain": [
       "array([ 7610.27561662,  9727.89611811, 25209.10662983,  6478.73285892,\n",
       "       13807.66805726,  4878.91393352, 33818.81316118, 15903.95676936,\n",
       "        5798.94463165,  5869.27939063, 12737.76205031, 29794.57865953,\n",
       "        4651.86698297, 32139.68383917,  7066.82136757, 13582.08695311,\n",
       "        6197.88566451, 10352.34255323, 13048.14529677, 13856.32132157,\n",
       "       15116.91169315, 14877.48783633,  8383.00309598, 35659.25501743,\n",
       "        4249.07408674, 30543.54847127, 30719.12674099,  6990.85407502,\n",
       "        6004.37078111,  6308.49367799,  2358.37444666, 29838.02774567,\n",
       "        9799.44890047,  5784.35824839, 11506.12455585, 11695.69963677,\n",
       "        9789.86203392,  5411.49937659, 13499.53394909,  7868.14875562,\n",
       "        5500.62961195, 13015.76469289,  9269.11039773, 10047.86731244,\n",
       "       11741.9744883 , 12868.55358066, 11883.18073496, 10683.02490613,\n",
       "       11023.76300792, 11961.88061578,  4231.50451569,  1910.94908528,\n",
       "       11252.77353934, 10240.02764593,  7088.29851577, 26942.28060698,\n",
       "        2904.10992826, 10992.78894779, 13533.48760814, 18354.70312251,\n",
       "       10386.12907094,  6927.47440058,  3156.77741497,  4242.76514975,\n",
       "         525.84415855, 26448.86873331, 33650.61909239, 12335.92317619,\n",
       "       10549.7135188 ,  7313.72162576,  1306.25278929,  6112.65937487,\n",
       "       13762.88513316, 16926.7918029 ,  6983.25361073,  3787.51400203,\n",
       "       12674.26987771, 40023.8884537 , 31867.44451591,  8585.77652508,\n",
       "       23735.18383004,  2109.87311251,  3434.19729688,  2256.75801865,\n",
       "       13687.2307389 , 12043.22316346,  7150.66643349,  6434.56022422,\n",
       "       15257.54952038,  8584.18477878, 10192.88320573, 38571.67139802,\n",
       "       13166.03617966,  4667.93668785, 34732.89144247, 13187.1913777 ,\n",
       "        9410.80040397, 11769.71413798, 16539.03512367,  2521.95710008,\n",
       "        2999.02559121, 35655.04516331, 11371.2904438 ,  6504.35518951,\n",
       "        4245.32794731,  9725.06008356,  7063.91495765,  3970.52560009,\n",
       "       14109.77049498,  3639.30547433,  7252.08591918, 12899.85457074,\n",
       "       10797.08606034, 10638.35564471,  1697.56412862,  6459.75494968,\n",
       "       25239.52113455, 10581.83365889,  2070.56844776, 12501.52871313,\n",
       "        3076.05972435, 10852.49769187,  7399.02402082, 11196.75104528,\n",
       "        7210.13269608,  6461.44983267,  2368.53112354, 11570.99476682,\n",
       "       10659.06832323, 37093.99819746,  9228.25078295, 13009.0106384 ,\n",
       "       34210.18128488, 28640.37147614, 10693.69466576,  6565.12594048,\n",
       "        6023.63281079, 12232.79824438, 11959.09231372, 28595.24629345,\n",
       "       11631.46866126,  5369.2078041 ,  4125.00864149, 34792.60906418,\n",
       "       37890.42217305, 39301.46416024, 23679.46033367,  5939.86824269,\n",
       "        6320.0720948 ,  8414.24541332,  8565.39512638,  8585.9776862 ,\n",
       "       12287.54059344,  5930.09339176,  2474.34387148,  6115.21751297,\n",
       "        9229.58780625, 27045.90279544, 13526.53570895,  5201.51641241,\n",
       "       36374.02313281, 11381.48889674, 12640.17077132, 14831.16792947,\n",
       "       11767.55504285, 17264.85738006, 11422.70404078, 25177.30664545,\n",
       "        2255.8294105 , 13270.92309054,  8937.49871284,  7446.16487214,\n",
       "       10221.73317256, 16956.21239783, 15381.02501648,  1004.63294664,\n",
       "        8108.85770008, 34002.24482375, 37212.24133032,  5187.94478198,\n",
       "       15240.81914424,  4844.8130327 ,  8626.32131607, 33428.65507956,\n",
       "       15936.01223773,  7105.65872875,  9448.41050604, 29922.78843225,\n",
       "       12433.28721304, 28850.3483474 , 28532.08395296, 13501.52250324,\n",
       "        3976.66220167, 12130.87071252,  7833.26891278, 12440.1526951 ,\n",
       "       11532.28170035,  7997.7783799 , 10450.94356812, 38897.36297109,\n",
       "        4779.20250756, 10196.92292241,  7296.62622643,  9400.52934056,\n",
       "        8406.39062955, 27775.37544448,  7618.61702501,  1428.62398147,\n",
       "        4077.04029788,  5927.74357829, 31841.46558546,  7495.28988381,\n",
       "       13088.11915005,  4482.78715267, 26534.17605676, 14433.93397968,\n",
       "       10049.00559898,  6340.82824988,  3896.3421631 ,  8823.52473675,\n",
       "        6818.83283298,  1125.18339308, 33145.54162378,  8469.75318092,\n",
       "       12933.51383477,  5768.27643736, 36194.18951297,  7995.31776878,\n",
       "        3267.76457724, 17654.30701538,  8440.02031762, 12730.98983929,\n",
       "       11947.45648262, 33341.13657861,  9508.98624019, 14500.01754916,\n",
       "        7611.24496737, 13210.17555558,   728.05162973, 12224.23321987,\n",
       "       12148.2930418 , 17609.04140228, 12770.16806815, 12507.67181116,\n",
       "       28971.38255342, 38056.39506223,  3076.05972435, 17459.83855054,\n",
       "       10609.50567788, 14065.91012865,  4706.70865345, 35650.4616234 ,\n",
       "       15790.3382286 , 10160.17607544, 11741.70516051,  5328.85982436,\n",
       "        9141.22818487,  9230.78360101, 31111.42029821, 28011.87318105,\n",
       "       27359.78481109, 13162.37901279,  4243.72352172,  6567.9302843 ,\n",
       "       30327.62720161, 11015.6545346 , 30865.30812922, 10130.75875978,\n",
       "        2765.22279173,  7615.71272985, 10189.66695181,  5927.5788613 ,\n",
       "       12108.00755007,  -521.15511546,  3111.72443923, 29269.47068843,\n",
       "       28469.47351232, 11651.09939694, 26366.0408871 , 28884.65788245,\n",
       "        -727.8014402 , 12267.17070811, 26468.88245946,  7301.1175145 ,\n",
       "       13390.70185241,  4646.58776997,  9161.93045774, 26226.43171328,\n",
       "       27327.32061796,  2167.50487948, 32953.0239666 , 10788.60821396,\n",
       "       35764.38423557,  2659.80778978, 28506.89146261, 15388.99302225,\n",
       "        8081.89668282,  9586.37517874, 13792.30137823,  8418.13905274,\n",
       "       38310.68280063,  4807.08388463, 11260.20037124,  9199.65450568,\n",
       "       16337.66325854,  5031.20260018,  3571.81602817,  5004.96648524,\n",
       "       27146.64963479, 13620.03792286,  6496.72581631, 32826.5422985 ,\n",
       "       14114.87535173, 12286.34489261, 31713.802501  , 29600.393517  ,\n",
       "        3698.71432263, 11694.09013747, 14764.56178331,  9166.7108089 ,\n",
       "        1359.74255922, 34182.16988305,  4544.78739785, 11387.67453181,\n",
       "       37518.56689284, 11068.06491712,  3451.97582247, 38159.05089604,\n",
       "        5569.311264  , 12037.61963273,  9865.06337194, 10571.33611433,\n",
       "        8771.68233298, 13626.28639268, 38525.40976037, 11428.32150924,\n",
       "       33439.1559034 , 26005.27417119,  8205.90313501,  5705.75106008,\n",
       "        8607.63237599, 15103.77958475, 11462.69290238,  5098.34472476,\n",
       "         736.50415608,  4338.32722591,  -605.00260574, 13839.8460259 ,\n",
       "        5100.18334385,  3652.82139098, 39388.93842364,  4188.53474533,\n",
       "       14135.14774722, 40283.72047695,  7436.89279224,  9710.19513139,\n",
       "       27891.97587066, 35823.05200871, 16291.66069376, 15821.97246793,\n",
       "        7305.83044926, 11164.34216241, 12177.60390967, 14582.53845892,\n",
       "       36920.100873  ,  7112.70994935,  9936.81766216,  7078.16854983,\n",
       "        3335.48305998,  -596.92273173, 13222.9111393 , 12797.59714997,\n",
       "        9387.39786208, 29903.92302117,  4285.13358865, 13111.72039156,\n",
       "       10333.26765301,  6498.20922646, 13866.20580564,  7493.905664  ,\n",
       "        8961.37287102,  5603.65405783, 29516.066617  , 16315.10035223,\n",
       "       12478.1976172 , 11621.36769816,  9709.34401957,  5964.08107058,\n",
       "       10837.06605793, 10165.89610745,  4633.58707725, 15508.35274765,\n",
       "       11209.18578008,  8973.77837659, 15001.5324757 , 14887.87395333,\n",
       "        7721.41109125,  5730.44657697, 31599.35400646,  5447.82400174,\n",
       "        2522.99713579,  3185.15828379,  4966.4449813 , 13945.83133564,\n",
       "       14459.49880205,  7806.35146601,  5848.50929782,  9466.87615031,\n",
       "        6705.72167134, 14988.16380082, 15139.34211319, 17624.94352514,\n",
       "       11455.08285022, 15765.12534661, 16180.89755114, 35469.05028892,\n",
       "       31013.32047559,  8670.91913154, 14323.00190127, 13790.39820775,\n",
       "       14821.63790408, 11585.91659729, 10400.79286199,  8569.81824777,\n",
       "       12614.6956825 ,  8524.35402898, 16913.84395893, 31646.71215459,\n",
       "         670.20731933,   -75.50150347, 33580.76841331, 10089.02839182,\n",
       "       35706.85282346,  8472.11334324, 12252.65397637, 11945.49101339,\n",
       "       29508.41150951,  9857.91882891, 13609.55601654, 12128.94885092,\n",
       "        4585.33218883,  5165.52476758, 31991.26585947,  2551.16505766,\n",
       "       23172.77157132,  4654.24287746,  7951.88365381,  4101.87552133,\n",
       "       30901.6860438 ,  4282.6019351 , 11028.97131095,  6839.83192523,\n",
       "       32565.42474693, 14232.02846516, 10299.63563452, 33113.40609826,\n",
       "        3419.51767972,   -85.44466028, 11158.57139641,  9205.06015456,\n",
       "        7077.60227159, 27456.80416499,  4059.99733306,  2839.23971729,\n",
       "       14879.80376111, 12730.86447399, 24213.54564291,  6442.75515182,\n",
       "       12623.95203023,  1832.71199388, 36514.57485251,  4615.1492713 ,\n",
       "       14447.26513444, 14326.68864412, 12193.03809904,  5890.39035112,\n",
       "        7044.39955873, 11490.27528175,  8220.93639305, 10215.21783645,\n",
       "       32497.68170514,  9126.73081132,  3858.29903543,  6058.73985863,\n",
       "       39429.79696783,  8509.18819075,  6894.23098226,  6765.66955233,\n",
       "       15393.8024134 , 33525.24777858,  5203.11595214,  2942.23664517,\n",
       "        3297.81002923, 34704.81755263, 25564.75253043, 13426.69349724,\n",
       "       28956.67443089, 10907.75956334, 10693.32277442, 12086.61367079,\n",
       "        9564.49463771, 15951.54574851,  9607.42787001, 10994.28881396,\n",
       "        3473.83135307,  6264.21750308, 38568.51448389,  7460.06343252,\n",
       "       27469.89342675,  6252.07280803, 28365.27429323,  5849.36601934,\n",
       "       40111.71815243,  3644.71112322,  4109.58561875, 30169.60765663,\n",
       "        8500.52491541, 14119.98553501, 15466.45170624,  4620.58459008,\n",
       "        6405.05607718, 33439.3206204 ,  3801.76875873, 14681.25090137,\n",
       "        8762.12509919,  8916.90297627,  4157.28463457, 11872.70851043,\n",
       "        9467.67114482,  4839.89253431, 10403.23061457,  1338.88528828,\n",
       "         575.79263298, 15847.08539859,  6142.90100819,  6963.96374272])"
      ]
     },
     "execution_count": 21,
     "metadata": {},
     "output_type": "execute_result"
    }
   ],
   "source": [
    "from sklearn.linear_model import LinearRegression\n",
    "model = LinearRegression()\n",
    "model.fit(X_train,y_train)\n",
    "predictions = model.predict(X_test)\n",
    "predictions[:]"
   ]
  },
  {
   "cell_type": "markdown",
   "id": "a6269f24",
   "metadata": {},
   "source": [
    "##### Write your inference on the model performance."
   ]
  },
  {
   "cell_type": "markdown",
   "id": "ea29c074",
   "metadata": {},
   "source": [
    "###### In previous condition to satisfy and tell about the explanation given:We can now evaluate a model using a train-test split. First, the loaded dataset must be split into input and output components. Next, we can split the dataset so that 67 percent is used to train the model and 33 percent is used to evaluate it. and the Linear Regression model is to obtain a line that best fits the data. By best fit, what is meant is that the total distance of all points from our regression line ... Commonly 70–80% of the data is taken as the training dataset while the ... The performance of the model can be evaluated and get the result and apply the code get the result."
   ]
  }
 ],
 "metadata": {
  "kernelspec": {
   "display_name": "Python 3",
   "language": "python",
   "name": "python3"
  },
  "language_info": {
   "codemirror_mode": {
    "name": "ipython",
    "version": 3
   },
   "file_extension": ".py",
   "mimetype": "text/x-python",
   "name": "python",
   "nbconvert_exporter": "python",
   "pygments_lexer": "ipython3",
   "version": "3.8.8"
  }
 },
 "nbformat": 4,
 "nbformat_minor": 5
}
